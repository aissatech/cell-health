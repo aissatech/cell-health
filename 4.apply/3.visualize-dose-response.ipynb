{
 "cells": [
  {
   "cell_type": "markdown",
   "metadata": {},
   "source": [
    "# Visualize Dose Response Curves\n",
    "\n",
    "In `2.fit-dose.R`, I fit Hill equations (4 parameter logistic model) to every compound-cell health model dose curve.\n",
    "\n",
    "Here, I summarize the results with a series of visualizations."
   ]
  },
  {
   "cell_type": "code",
   "execution_count": null,
   "metadata": {},
   "outputs": [],
   "source": [
    "suppressPackageStartupMessages(library(dplyr))\n",
    "suppressPackageStartupMessages(library(ggplot2))\n",
    "source(file.path(\"scripts\", \"dose_utils.R\"))"
   ]
  },
  {
   "cell_type": "code",
   "execution_count": null,
   "metadata": {},
   "outputs": [],
   "source": [
    "figure_dir <- file.path(\"figures\", \"dose_response\")"
   ]
  },
  {
   "cell_type": "markdown",
   "metadata": {},
   "source": [
    "## Load Data"
   ]
  },
  {
   "cell_type": "code",
   "execution_count": null,
   "metadata": {},
   "outputs": [],
   "source": [
    "moa_file <- file.path(\"repurposing_cellhealth_shiny\", \"data\", \"moa_cell_health_modz.tsv.gz\")\n",
    "\n",
    "moa_cols <- readr::cols(\n",
    "  .default = readr::col_double(),\n",
    "  Image_Metadata_Well = readr::col_character(),\n",
    "  Metadata_broad_core_id = readr::col_character(),\n",
    "  Metadata_broad_sample = readr::col_character(),\n",
    "  Metadata_dose_recode = readr::col_integer(),\n",
    "  pert_id = readr::col_character(),\n",
    "  pert_iname = readr::col_character(),\n",
    "  pert_type = readr::col_character(),\n",
    "  moa = readr::col_character()\n",
    ")\n",
    "\n",
    "moa_df <- readr::read_tsv(moa_file, col_types = moa_cols)\n",
    "moa_long_df <- moa_df %>% reshape2::melt(id.vars = c(\n",
    "  \"Image_Metadata_Well\",\n",
    "  \"Metadata_broad_core_id\",\n",
    "  \"Metadata_broad_sample\",\n",
    "  \"Metadata_dose_recode\",\n",
    "  \"Metadata_mmoles_per_liter\",\n",
    "  \"umap_x\",\n",
    "  \"umap_y\",\n",
    "  \"pert_id\",\n",
    "  \"pert_iname\",\n",
    "  \"pert_type\",\n",
    "  \"moa\"),\n",
    "  variable.name = \"model\",\n",
    "  value.name = \"model_score\"\n",
    ")\n",
    "\n",
    "print(dim(moa_long_df))\n",
    "head(moa_long_df, 3)"
   ]
  },
  {
   "cell_type": "code",
   "execution_count": null,
   "metadata": {},
   "outputs": [],
   "source": [
    "dose_file <- file.path(\"results\", \"dose_response_curve_fit_results.tsv\")\n",
    "\n",
    "dose_cols <- readr::cols(\n",
    "    .default = readr::col_character(),\n",
    "    slope = readr::col_double(),\n",
    "    slope_error = readr::col_double(),\n",
    "    slope_t = readr::col_double(),\n",
    "    slope_p = readr::col_double(),\n",
    "    ic_fifty = readr::col_double(),\n",
    "    ic_fifty_error = readr::col_double(),\n",
    "    ic_fifty_t = readr::col_double(),\n",
    "    ic_fifty_p = readr::col_double(),\n",
    "    residual = readr::col_double()\n",
    ")\n",
    "\n",
    "dose_df <- readr::read_tsv(dose_file, col_types = dose_cols)\n",
    "\n",
    "print(dim(dose_df))\n",
    "head(dose_df, 3)"
   ]
  },
  {
   "cell_type": "markdown",
   "metadata": {},
   "source": [
    "## Generate Summary Figure"
   ]
  },
  {
   "cell_type": "code",
   "execution_count": null,
   "metadata": {},
   "outputs": [],
   "source": [
    "residual_gg <- ggplot(dose_df, aes(x = residual)) +\n",
    "    geom_density(fill=\"grey\") +\n",
    "    theme_bw() +\n",
    "    xlab(\"Residual of Dose Curve Fit\") +\n",
    "    ylab(\"Density\")\n",
    "\n",
    "summary_gg <- ggplot(dose_df, aes(x = slope_t, y = -log10(slope_p))) +\n",
    "    geom_point(alpha = 0.5, size = 0.3, pch = 19, color = \"black\", fill = \"black\") +\n",
    "    theme_bw() +\n",
    "    xlab(\"Slope Fit Statistic\") +\n",
    "    ylab(\"-log10 Slope p Value\")\n",
    "\n",
    "ic_fifty_p_density_gg <- ggplot(dose_df, aes(x = -log10(ic_fifty_p))) +\n",
    "    geom_density(fill = \"grey\") +\n",
    "    theme_bw() +\n",
    "    coord_flip() +\n",
    "    xlab(\"\") +\n",
    "    ylab(\"Density\")"
   ]
  },
  {
   "cell_type": "code",
   "execution_count": null,
   "metadata": {},
   "outputs": [],
   "source": [
    "output_file <- file.path(figure_dir, \"dose_summary.png\")\n",
    "\n",
    "dose_summary_gg <- cowplot::plot_grid(\n",
    "    residual_gg,\n",
    "    cowplot::plot_grid(\n",
    "        summary_gg,\n",
    "        ic_fifty_p_density_gg,\n",
    "        ncol = 2,\n",
    "        nrow = 1,\n",
    "        align = \"h\",\n",
    "        rel_widths = c(0.8, 0.2)\n",
    "    ),\n",
    "    nrow = 2,\n",
    "    align = \"h\",\n",
    "    rel_heights = c(0.4, 0.6)\n",
    ")\n",
    "\n",
    "cowplot::save_plot(output_file, dose_summary_gg, base_height = 5, base_width = 5)\n",
    "\n",
    "dose_summary_gg"
   ]
  },
  {
   "cell_type": "markdown",
   "metadata": {},
   "source": [
    "## Plot Several Examples"
   ]
  },
  {
   "cell_type": "code",
   "execution_count": null,
   "metadata": {},
   "outputs": [],
   "source": [
    "dose_curve_theme <- theme(\n",
    "    axis.text.x = element_text(size = 4),\n",
    "    axis.text.y = element_text(size = 6),\n",
    "    axis.title = element_text(size = 8)\n",
    ")"
   ]
  },
  {
   "cell_type": "code",
   "execution_count": null,
   "metadata": {},
   "outputs": [],
   "source": [
    "get_dose_curve <- function(moa_long_df, dose_df, model, pert_name, cell_health_model) {\n",
    "    compound <- unique(\n",
    "    dose_df %>%\n",
    "        dplyr::filter(pert_iname == !!pert_name) %>%\n",
    "        dplyr::pull(compound)\n",
    "    )[1]\n",
    "\n",
    "    example_curve <- get_curve_fit(moa_long_df, dose_df, compound, model)\n",
    "\n",
    "    # Sample data\n",
    "    newdata <- expand.grid(conc=exp(seq(log(0.04), log(10), length=1000)))\n",
    "    # predictions and confidence intervals\n",
    "    pm <- stats::predict(example_curve$fit, newdata=newdata, level = 0.95, interval=\"confidence\")\n",
    "    newdata$p <- pm[,1]\n",
    "    newdata$pmin <- pm[,2]\n",
    "    newdata$pmax <- pm[,3]\n",
    "\n",
    "    dose_curve_gg <- ggplot(example_curve$moa,\n",
    "                            aes(x = Metadata_mmoles_per_liter, y = model_score_transform)) +\n",
    "        geom_point(size = 0.5) +\n",
    "        coord_trans(x=\"log10\") +\n",
    "        geom_ribbon(data=newdata, aes(x=conc, y=p, ymin=pmin, ymax=pmax), alpha=0.2) +\n",
    "        geom_line(data=newdata, aes(x=conc, y=p), lwd = 0.5) +\n",
    "        theme_bw() +\n",
    "        xlab(paste0(\"Micromoles per Liter\\n\", pert_name)) +\n",
    "        ylab(paste0(\"Cell Health Model\\n\", cell_health_model))\n",
    "\n",
    "    return(dose_curve_gg)\n",
    "}"
   ]
  },
  {
   "cell_type": "code",
   "execution_count": null,
   "metadata": {},
   "outputs": [],
   "source": [
    "model <- \"cell_health_modz_target_vb_ros_mean\"\n",
    "pert_name <- \"bortezomib\"\n",
    "bortezomib_gg <- get_dose_curve(moa_long_df, dose_df, model, pert_name, \"ROS Mean\") + dose_curve_theme"
   ]
  },
  {
   "cell_type": "code",
   "execution_count": null,
   "metadata": {},
   "outputs": [],
   "source": [
    "model <- \"cell_health_modz_target_cc_g1_n_spots_mean\"\n",
    "cell_health_model <- \"DNA Damage in G1 Cells\"\n",
    "pert_name <- \"MLN-4924\"\n",
    "mln_g1_gg <- get_dose_curve(moa_long_df, dose_df, model, pert_name, cell_health_model) + dose_curve_theme"
   ]
  },
  {
   "cell_type": "code",
   "execution_count": null,
   "metadata": {},
   "outputs": [],
   "source": [
    "model <- \"cell_health_modz_target_cc_edu_pos_n_objects\"\n",
    "cell_health_model <- \"Number of Proliferating Cells\"\n",
    "pert_name <- \"midostaurin\"\n",
    "midostaurin_edu_gg <- get_dose_curve(moa_long_df, dose_df, model, pert_name, cell_health_model) + dose_curve_theme"
   ]
  },
  {
   "cell_type": "code",
   "execution_count": null,
   "metadata": {},
   "outputs": [],
   "source": [
    "output_file <- file.path(figure_dir, \"select_dose_examples.png\")\n",
    "\n",
    "dose_examples_gg <- cowplot::plot_grid(\n",
    "    bortezomib_gg,\n",
    "    mln_g1_gg,\n",
    "    midostaurin_edu_gg,\n",
    "    nrow = 1,\n",
    "    ncol = 3,\n",
    "    align = \"v\"\n",
    ")\n",
    "\n",
    "cowplot::save_plot(output_file, dose_examples_gg, base_height = 3, base_width = 8.5)\n",
    "\n",
    "dose_examples_gg"
   ]
  }
 ],
 "metadata": {
  "kernelspec": {
   "display_name": "R [conda env:cell-health] *",
   "language": "R",
   "name": "conda-env-cell-health-r"
  },
  "language_info": {
   "codemirror_mode": "r",
   "file_extension": ".r",
   "mimetype": "text/x-r-source",
   "name": "R",
   "pygments_lexer": "r",
   "version": "3.5.1"
  }
 },
 "nbformat": 4,
 "nbformat_minor": 2
}
