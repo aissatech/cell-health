{
 "cells": [
  {
   "cell_type": "markdown",
   "metadata": {},
   "source": [
    "# Observe Viability Predictions against DepMap Estimates"
   ]
  },
  {
   "cell_type": "code",
   "execution_count": 1,
   "metadata": {},
   "outputs": [],
   "source": [
    "import os\n",
    "import pandas as pd\n",
    "from scipy import stats\n",
    "\n",
    "import plotnine as gg"
   ]
  },
  {
   "cell_type": "code",
   "execution_count": 2,
   "metadata": {},
   "outputs": [],
   "source": [
    "%matplotlib inline"
   ]
  },
  {
   "cell_type": "code",
   "execution_count": 3,
   "metadata": {},
   "outputs": [],
   "source": [
    "cell_line_id = \"A549_LUNG\"\n",
    "cell_health_model = \"cell_health_modz_target_cc_cc_n_objects\""
   ]
  },
  {
   "cell_type": "markdown",
   "metadata": {},
   "source": [
    "## Load Data\n",
    "\n",
    "### Cancer Dependency Map Data"
   ]
  },
  {
   "cell_type": "code",
   "execution_count": 4,
   "metadata": {},
   "outputs": [
    {
     "name": "stdout",
     "output_type": "stream",
     "text": [
      "(4686, 14)\n"
     ]
    },
    {
     "data": {
      "text/html": [
       "<div>\n",
       "<style scoped>\n",
       "    .dataframe tbody tr th:only-of-type {\n",
       "        vertical-align: middle;\n",
       "    }\n",
       "\n",
       "    .dataframe tbody tr th {\n",
       "        vertical-align: top;\n",
       "    }\n",
       "\n",
       "    .dataframe thead th {\n",
       "        text-align: right;\n",
       "    }\n",
       "</style>\n",
       "<table border=\"1\" class=\"dataframe\">\n",
       "  <thead>\n",
       "    <tr style=\"text-align: right;\">\n",
       "      <th></th>\n",
       "      <th>treatment_id</th>\n",
       "      <th>depmap_viability</th>\n",
       "      <th>column_name</th>\n",
       "      <th>broad_id</th>\n",
       "      <th>name</th>\n",
       "      <th>dose</th>\n",
       "      <th>screen_id</th>\n",
       "      <th>moa</th>\n",
       "      <th>target</th>\n",
       "      <th>disease.area</th>\n",
       "      <th>indication</th>\n",
       "      <th>smiles</th>\n",
       "      <th>phase</th>\n",
       "      <th>dose_recode</th>\n",
       "    </tr>\n",
       "  </thead>\n",
       "  <tbody>\n",
       "    <tr>\n",
       "      <th>0</th>\n",
       "      <td>BRD-A00077618-236-07-6::2.5::HTS</td>\n",
       "      <td>-0.253541</td>\n",
       "      <td>BRD-A00077618-236-07-6::2.5::HTS</td>\n",
       "      <td>BRD-A00077618-236-07-6</td>\n",
       "      <td>8-bromo-cGMP</td>\n",
       "      <td>2.5</td>\n",
       "      <td>HTS</td>\n",
       "      <td>PKA activator</td>\n",
       "      <td>PRKG1</td>\n",
       "      <td>NaN</td>\n",
       "      <td>NaN</td>\n",
       "      <td>Nc1nc(O)c2nc(Br)n([C@@H]3O[C@@H]4COP(O)(=O)O[C...</td>\n",
       "      <td>Preclinical</td>\n",
       "      <td>5</td>\n",
       "    </tr>\n",
       "    <tr>\n",
       "      <th>1</th>\n",
       "      <td>BRD-A00100033-001-08-9::2.5::HTS</td>\n",
       "      <td>-0.506751</td>\n",
       "      <td>BRD-A00100033-001-08-9::2.5::HTS</td>\n",
       "      <td>BRD-A00100033-001-08-9</td>\n",
       "      <td>nifurtimox</td>\n",
       "      <td>2.5</td>\n",
       "      <td>HTS</td>\n",
       "      <td>DNA inhibitor</td>\n",
       "      <td>NaN</td>\n",
       "      <td>infectious disease</td>\n",
       "      <td>Chagas disease, African trypanosomiasis</td>\n",
       "      <td>CC1CS(=O)(=O)CCN1N=Cc1ccc(o1)[N+]([O-])=O</td>\n",
       "      <td>Launched</td>\n",
       "      <td>5</td>\n",
       "    </tr>\n",
       "    <tr>\n",
       "      <th>2</th>\n",
       "      <td>BRD-A00147595-001-01-5::2.5::HTS</td>\n",
       "      <td>-0.477851</td>\n",
       "      <td>BRD-A00147595-001-01-5::2.5::HTS</td>\n",
       "      <td>BRD-A00147595-001-01-5</td>\n",
       "      <td>balaglitazone</td>\n",
       "      <td>2.5</td>\n",
       "      <td>HTS</td>\n",
       "      <td>insulin sensitizer, PPAR receptor partial agonist</td>\n",
       "      <td>PPARG</td>\n",
       "      <td>NaN</td>\n",
       "      <td>NaN</td>\n",
       "      <td>Cn1c(COc2ccc(CC3SC(=O)NC3=O)cc2)nc2ccccc2c1=O</td>\n",
       "      <td>Phase 3</td>\n",
       "      <td>5</td>\n",
       "    </tr>\n",
       "  </tbody>\n",
       "</table>\n",
       "</div>"
      ],
      "text/plain": [
       "                       treatment_id  depmap_viability  \\\n",
       "0  BRD-A00077618-236-07-6::2.5::HTS         -0.253541   \n",
       "1  BRD-A00100033-001-08-9::2.5::HTS         -0.506751   \n",
       "2  BRD-A00147595-001-01-5::2.5::HTS         -0.477851   \n",
       "\n",
       "                        column_name                broad_id           name  \\\n",
       "0  BRD-A00077618-236-07-6::2.5::HTS  BRD-A00077618-236-07-6   8-bromo-cGMP   \n",
       "1  BRD-A00100033-001-08-9::2.5::HTS  BRD-A00100033-001-08-9     nifurtimox   \n",
       "2  BRD-A00147595-001-01-5::2.5::HTS  BRD-A00147595-001-01-5  balaglitazone   \n",
       "\n",
       "   dose screen_id                                                moa target  \\\n",
       "0   2.5       HTS                                      PKA activator  PRKG1   \n",
       "1   2.5       HTS                                      DNA inhibitor    NaN   \n",
       "2   2.5       HTS  insulin sensitizer, PPAR receptor partial agonist  PPARG   \n",
       "\n",
       "         disease.area                               indication  \\\n",
       "0                 NaN                                      NaN   \n",
       "1  infectious disease  Chagas disease, African trypanosomiasis   \n",
       "2                 NaN                                      NaN   \n",
       "\n",
       "                                              smiles        phase  dose_recode  \n",
       "0  Nc1nc(O)c2nc(Br)n([C@@H]3O[C@@H]4COP(O)(=O)O[C...  Preclinical            5  \n",
       "1          CC1CS(=O)(=O)CCN1N=Cc1ccc(o1)[N+]([O-])=O     Launched            5  \n",
       "2      Cn1c(COc2ccc(CC3SC(=O)NC3=O)cc2)nc2ccccc2c1=O      Phase 3            5  "
      ]
     },
     "execution_count": 4,
     "metadata": {},
     "output_type": "execute_result"
    }
   ],
   "source": [
    "depmap_file = os.path.join(\n",
    "    \"data\",\n",
    "    \"processed\",\n",
    "    \"{}_viability_estimates.tsv\".format(cell_line_id)\n",
    ")\n",
    "\n",
    "depmap_df = (\n",
    "    pd.read_csv(depmap_file, sep='\\t')\n",
    "    .rename(\n",
    "        {\n",
    "            cell_line_id: \"depmap_viability\"\n",
    "        },\n",
    "        axis=\"columns\"\n",
    "    )\n",
    ")\n",
    "\n",
    "print(depmap_df.shape)\n",
    "depmap_df.head(3)"
   ]
  },
  {
   "cell_type": "markdown",
   "metadata": {},
   "source": [
    "### Cell Health Predictions on Drug Repurposing Hub"
   ]
  },
  {
   "cell_type": "code",
   "execution_count": 5,
   "metadata": {},
   "outputs": [],
   "source": [
    "focus_columns = [\n",
    "    \"Metadata_broad_sample\",\n",
    "    \"Metadata_dose_recode\",\n",
    "    \"Metadata_mmoles_per_liter\",\n",
    "    \"Image_Metadata_Well\",\n",
    "    cell_health_model\n",
    "]"
   ]
  },
  {
   "cell_type": "code",
   "execution_count": 6,
   "metadata": {},
   "outputs": [
    {
     "name": "stdout",
     "output_type": "stream",
     "text": [
      "(9434, 5)\n"
     ]
    },
    {
     "data": {
      "text/html": [
       "<div>\n",
       "<style scoped>\n",
       "    .dataframe tbody tr th:only-of-type {\n",
       "        vertical-align: middle;\n",
       "    }\n",
       "\n",
       "    .dataframe tbody tr th {\n",
       "        vertical-align: top;\n",
       "    }\n",
       "\n",
       "    .dataframe thead th {\n",
       "        text-align: right;\n",
       "    }\n",
       "</style>\n",
       "<table border=\"1\" class=\"dataframe\">\n",
       "  <thead>\n",
       "    <tr style=\"text-align: right;\">\n",
       "      <th></th>\n",
       "      <th>Metadata_broad_sample</th>\n",
       "      <th>Metadata_dose_recode</th>\n",
       "      <th>Metadata_mmoles_per_liter</th>\n",
       "      <th>Image_Metadata_Well</th>\n",
       "      <th>cell_health_viability</th>\n",
       "    </tr>\n",
       "  </thead>\n",
       "  <tbody>\n",
       "    <tr>\n",
       "      <th>0</th>\n",
       "      <td>BRD-A00147595-001-01-5</td>\n",
       "      <td>1</td>\n",
       "      <td>0.041152</td>\n",
       "      <td>collapsed</td>\n",
       "      <td>0.178272</td>\n",
       "    </tr>\n",
       "    <tr>\n",
       "      <th>1</th>\n",
       "      <td>BRD-A00147595-001-01-5</td>\n",
       "      <td>2</td>\n",
       "      <td>0.123457</td>\n",
       "      <td>collapsed</td>\n",
       "      <td>-0.221397</td>\n",
       "    </tr>\n",
       "    <tr>\n",
       "      <th>2</th>\n",
       "      <td>BRD-A00147595-001-01-5</td>\n",
       "      <td>3</td>\n",
       "      <td>0.370370</td>\n",
       "      <td>collapsed</td>\n",
       "      <td>-0.089365</td>\n",
       "    </tr>\n",
       "  </tbody>\n",
       "</table>\n",
       "</div>"
      ],
      "text/plain": [
       "    Metadata_broad_sample  Metadata_dose_recode  Metadata_mmoles_per_liter  \\\n",
       "0  BRD-A00147595-001-01-5                     1                   0.041152   \n",
       "1  BRD-A00147595-001-01-5                     2                   0.123457   \n",
       "2  BRD-A00147595-001-01-5                     3                   0.370370   \n",
       "\n",
       "  Image_Metadata_Well  cell_health_viability  \n",
       "0           collapsed               0.178272  \n",
       "1           collapsed              -0.221397  \n",
       "2           collapsed              -0.089365  "
      ]
     },
     "execution_count": 6,
     "metadata": {},
     "output_type": "execute_result"
    }
   ],
   "source": [
    "cell_health_file = os.path.join(\n",
    "    \"..\",\n",
    "    \"4.apply\",\n",
    "    \"data\",\n",
    "    \"repurposing_transformed_real_models_modz.tsv.gz\"\n",
    ")\n",
    "\n",
    "cell_health_df = (\n",
    "    pd.read_csv(cell_health_file, sep='\\t')\n",
    "    .loc[:, focus_columns]\n",
    "    .rename(\n",
    "        {\n",
    "            cell_health_model: \"cell_health_viability\"\n",
    "        },\n",
    "        axis=\"columns\"\n",
    "    )\n",
    ")\n",
    "\n",
    "print(cell_health_df.shape)\n",
    "cell_health_df.head(3)"
   ]
  },
  {
   "cell_type": "markdown",
   "metadata": {},
   "source": [
    "## Observe how different dose recodings are"
   ]
  },
  {
   "cell_type": "code",
   "execution_count": 7,
   "metadata": {},
   "outputs": [
    {
     "data": {
      "text/plain": [
       "<matplotlib.axes._subplots.AxesSubplot at 0x1206bbcc0>"
      ]
     },
     "execution_count": 7,
     "metadata": {},
     "output_type": "execute_result"
    },
    {
     "data": {
      "image/png": "[encoded data removed]",
      "text/plain": [
       "<Figure size 432x288 with 1 Axes>"
      ]
     },
     "metadata": {
      "needs_background": "light"
     },
     "output_type": "display_data"
    }
   ],
   "source": [
    "depmap_df.plot(x=\"dose\", y=\"dose_recode\", kind=\"scatter\")"
   ]
  },
  {
   "cell_type": "code",
   "execution_count": 8,
   "metadata": {},
   "outputs": [
    {
     "data": {
      "text/plain": [
       "<matplotlib.axes._subplots.AxesSubplot at 0x10b24f860>"
      ]
     },
     "execution_count": 8,
     "metadata": {},
     "output_type": "execute_result"
    },
    {
     "data": {
      "image/png": "[encoded data removed]",
      "text/plain": [
       "<Figure size 432x288 with 1 Axes>"
      ]
     },
     "metadata": {
      "needs_background": "light"
     },
     "output_type": "display_data"
    }
   ],
   "source": [
    "cell_health_df.plot(x=\"Metadata_mmoles_per_liter\", y=\"Metadata_dose_recode\", kind=\"scatter\")"
   ]
  },
  {
   "cell_type": "markdown",
   "metadata": {},
   "source": [
    "## Merge Together"
   ]
  },
  {
   "cell_type": "code",
   "execution_count": 9,
   "metadata": {},
   "outputs": [
    {
     "name": "stdout",
     "output_type": "stream",
     "text": [
      "(1436, 19)\n"
     ]
    },
    {
     "data": {
      "text/html": [
       "<div>\n",
       "<style scoped>\n",
       "    .dataframe tbody tr th:only-of-type {\n",
       "        vertical-align: middle;\n",
       "    }\n",
       "\n",
       "    .dataframe tbody tr th {\n",
       "        vertical-align: top;\n",
       "    }\n",
       "\n",
       "    .dataframe thead th {\n",
       "        text-align: right;\n",
       "    }\n",
       "</style>\n",
       "<table border=\"1\" class=\"dataframe\">\n",
       "  <thead>\n",
       "    <tr style=\"text-align: right;\">\n",
       "      <th></th>\n",
       "      <th>Metadata_broad_sample</th>\n",
       "      <th>Metadata_dose_recode</th>\n",
       "      <th>Metadata_mmoles_per_liter</th>\n",
       "      <th>Image_Metadata_Well</th>\n",
       "      <th>cell_health_viability</th>\n",
       "      <th>treatment_id</th>\n",
       "      <th>depmap_viability</th>\n",
       "      <th>column_name</th>\n",
       "      <th>broad_id</th>\n",
       "      <th>name</th>\n",
       "      <th>dose</th>\n",
       "      <th>screen_id</th>\n",
       "      <th>moa</th>\n",
       "      <th>target</th>\n",
       "      <th>disease.area</th>\n",
       "      <th>indication</th>\n",
       "      <th>smiles</th>\n",
       "      <th>phase</th>\n",
       "      <th>dose_recode</th>\n",
       "    </tr>\n",
       "  </thead>\n",
       "  <tbody>\n",
       "    <tr>\n",
       "      <th>0</th>\n",
       "      <td>BRD-A00147595-001-01-5</td>\n",
       "      <td>5</td>\n",
       "      <td>3.333333</td>\n",
       "      <td>collapsed</td>\n",
       "      <td>-1.227843</td>\n",
       "      <td>BRD-A00147595-001-01-5::2.5::HTS</td>\n",
       "      <td>-0.477851</td>\n",
       "      <td>BRD-A00147595-001-01-5::2.5::HTS</td>\n",
       "      <td>BRD-A00147595-001-01-5</td>\n",
       "      <td>balaglitazone</td>\n",
       "      <td>2.5</td>\n",
       "      <td>HTS</td>\n",
       "      <td>insulin sensitizer, PPAR receptor partial agonist</td>\n",
       "      <td>PPARG</td>\n",
       "      <td>NaN</td>\n",
       "      <td>NaN</td>\n",
       "      <td>Cn1c(COc2ccc(CC3SC(=O)NC3=O)cc2)nc2ccccc2c1=O</td>\n",
       "      <td>Phase 3</td>\n",
       "      <td>5</td>\n",
       "    </tr>\n",
       "    <tr>\n",
       "      <th>1</th>\n",
       "      <td>BRD-A00218260-001-03-4</td>\n",
       "      <td>5</td>\n",
       "      <td>3.333333</td>\n",
       "      <td>collapsed</td>\n",
       "      <td>-0.130889</td>\n",
       "      <td>BRD-A00218260-001-03-4::2.5::HTS</td>\n",
       "      <td>0.309237</td>\n",
       "      <td>BRD-A00218260-001-03-4::2.5::HTS</td>\n",
       "      <td>BRD-A00218260-001-03-4</td>\n",
       "      <td>flutrimazole</td>\n",
       "      <td>2.5</td>\n",
       "      <td>HTS</td>\n",
       "      <td>sterol demethylase inhibitor</td>\n",
       "      <td>NaN</td>\n",
       "      <td>infectious disease</td>\n",
       "      <td>mycosis</td>\n",
       "      <td>Fc1ccc(cc1)C(c1ccccc1)(c1ccccc1F)n1ccnc1</td>\n",
       "      <td>Launched</td>\n",
       "      <td>5</td>\n",
       "    </tr>\n",
       "    <tr>\n",
       "      <th>2</th>\n",
       "      <td>BRD-A00376169-001-01-6</td>\n",
       "      <td>5</td>\n",
       "      <td>3.333333</td>\n",
       "      <td>collapsed</td>\n",
       "      <td>0.194906</td>\n",
       "      <td>BRD-A00376169-001-01-6::2.5::HTS</td>\n",
       "      <td>-0.504880</td>\n",
       "      <td>BRD-A00376169-001-01-6::2.5::HTS</td>\n",
       "      <td>BRD-A00376169-001-01-6</td>\n",
       "      <td>KBG</td>\n",
       "      <td>2.5</td>\n",
       "      <td>HTS</td>\n",
       "      <td>neprilysin inhibitor</td>\n",
       "      <td>MME</td>\n",
       "      <td>NaN</td>\n",
       "      <td>NaN</td>\n",
       "      <td>OC1O[C@@H]2COC(O[C@H]2[C@H](O)[C@H]1O)c1ccccc1</td>\n",
       "      <td>Phase 2</td>\n",
       "      <td>5</td>\n",
       "    </tr>\n",
       "  </tbody>\n",
       "</table>\n",
       "</div>"
      ],
      "text/plain": [
       "    Metadata_broad_sample  Metadata_dose_recode  Metadata_mmoles_per_liter  \\\n",
       "0  BRD-A00147595-001-01-5                     5                   3.333333   \n",
       "1  BRD-A00218260-001-03-4                     5                   3.333333   \n",
       "2  BRD-A00376169-001-01-6                     5                   3.333333   \n",
       "\n",
       "  Image_Metadata_Well  cell_health_viability  \\\n",
       "0           collapsed              -1.227843   \n",
       "1           collapsed              -0.130889   \n",
       "2           collapsed               0.194906   \n",
       "\n",
       "                       treatment_id  depmap_viability  \\\n",
       "0  BRD-A00147595-001-01-5::2.5::HTS         -0.477851   \n",
       "1  BRD-A00218260-001-03-4::2.5::HTS          0.309237   \n",
       "2  BRD-A00376169-001-01-6::2.5::HTS         -0.504880   \n",
       "\n",
       "                        column_name                broad_id           name  \\\n",
       "0  BRD-A00147595-001-01-5::2.5::HTS  BRD-A00147595-001-01-5  balaglitazone   \n",
       "1  BRD-A00218260-001-03-4::2.5::HTS  BRD-A00218260-001-03-4   flutrimazole   \n",
       "2  BRD-A00376169-001-01-6::2.5::HTS  BRD-A00376169-001-01-6            KBG   \n",
       "\n",
       "   dose screen_id                                                moa target  \\\n",
       "0   2.5       HTS  insulin sensitizer, PPAR receptor partial agonist  PPARG   \n",
       "1   2.5       HTS                       sterol demethylase inhibitor    NaN   \n",
       "2   2.5       HTS                               neprilysin inhibitor    MME   \n",
       "\n",
       "         disease.area indication  \\\n",
       "0                 NaN        NaN   \n",
       "1  infectious disease    mycosis   \n",
       "2                 NaN        NaN   \n",
       "\n",
       "                                           smiles     phase  dose_recode  \n",
       "0   Cn1c(COc2ccc(CC3SC(=O)NC3=O)cc2)nc2ccccc2c1=O   Phase 3            5  \n",
       "1        Fc1ccc(cc1)C(c1ccccc1)(c1ccccc1F)n1ccnc1  Launched            5  \n",
       "2  OC1O[C@@H]2COC(O[C@H]2[C@H](O)[C@H]1O)c1ccccc1   Phase 2            5  "
      ]
     },
     "execution_count": 9,
     "metadata": {},
     "output_type": "execute_result"
    }
   ],
   "source": [
    "full_df = (\n",
    "    cell_health_df\n",
    "    .merge(\n",
    "        depmap_df,\n",
    "        left_on=[\"Metadata_broad_sample\", \"Metadata_dose_recode\"],\n",
    "        right_on=[\"broad_id\", \"dose_recode\"],\n",
    "        how=\"inner\"\n",
    "    )\n",
    ")\n",
    "\n",
    "print(full_df.shape)\n",
    "full_df.head(3)"
   ]
  },
  {
   "cell_type": "markdown",
   "metadata": {},
   "source": [
    "## Obtain Results"
   ]
  },
  {
   "cell_type": "code",
   "execution_count": 10,
   "metadata": {},
   "outputs": [
    {
     "data": {
      "text/html": [
       "<div>\n",
       "<style scoped>\n",
       "    .dataframe tbody tr th:only-of-type {\n",
       "        vertical-align: middle;\n",
       "    }\n",
       "\n",
       "    .dataframe tbody tr th {\n",
       "        vertical-align: top;\n",
       "    }\n",
       "\n",
       "    .dataframe thead th {\n",
       "        text-align: right;\n",
       "    }\n",
       "</style>\n",
       "<table border=\"1\" class=\"dataframe\">\n",
       "  <thead>\n",
       "    <tr style=\"text-align: right;\">\n",
       "      <th></th>\n",
       "      <th>stat</th>\n",
       "      <th>p</th>\n",
       "    </tr>\n",
       "  </thead>\n",
       "  <tbody>\n",
       "    <tr>\n",
       "      <th>0</th>\n",
       "      <td>0.257389</td>\n",
       "      <td>3.669143e-23</td>\n",
       "    </tr>\n",
       "  </tbody>\n",
       "</table>\n",
       "</div>"
      ],
      "text/plain": [
       "       stat             p\n",
       "0  0.257389  3.669143e-23"
      ]
     },
     "execution_count": 10,
     "metadata": {},
     "output_type": "execute_result"
    }
   ],
   "source": [
    "spearman_cor = stats.spearmanr(full_df.cell_health_viability, full_df.depmap_viability)\n",
    "spearman_cor = pd.DataFrame(spearman_cor, index=[\"stat\", \"p\"]).transpose()\n",
    "spearman_cor"
   ]
  },
  {
   "cell_type": "code",
   "execution_count": 11,
   "metadata": {},
   "outputs": [
    {
     "data": {
      "text/plain": [
       "'Spearman = 0.26\\np = 3.67E-23'"
      ]
     },
     "execution_count": 11,
     "metadata": {},
     "output_type": "execute_result"
    }
   ],
   "source": [
    "result_text = \"Spearman = {0:.2f}\\np = {1:.2E}\".format(\n",
    "    spearman_cor.stat[0],\n",
    "    spearman_cor.p[0]\n",
    ")\n",
    "\n",
    "result_text"
   ]
  },
  {
   "cell_type": "code",
   "execution_count": 12,
   "metadata": {},
   "outputs": [
    {
     "name": "stderr",
     "output_type": "stream",
     "text": [
      "/Users/gway/miniconda3/envs/cell-health/lib/python3.7/site-packages/plotnine/ggplot.py:706: UserWarning: Saving 5 x 3 in image.\n",
      "  from_inches(height, units), units))\n",
      "/Users/gway/miniconda3/envs/cell-health/lib/python3.7/site-packages/plotnine/ggplot.py:707: UserWarning: Filename: figures/viability_results.png\n",
      "  warn('Filename: {}'.format(filename))\n",
      "/Users/gway/miniconda3/envs/cell-health/lib/python3.7/site-packages/numpy/core/fromnumeric.py:2389: FutureWarning: Method .ptp is deprecated and will be removed in a future version. Use numpy.ptp instead.\n",
      "  return ptp(axis=axis, out=out, **kwargs)\n",
      "/Users/gway/miniconda3/envs/cell-health/lib/python3.7/site-packages/numpy/core/fromnumeric.py:2389: FutureWarning: Method .ptp is deprecated and will be removed in a future version. Use numpy.ptp instead.\n",
      "  return ptp(axis=axis, out=out, **kwargs)\n"
     ]
    },
    {
     "data": {
      "image/png": "[encoded data removed]",
      "text/plain": [
       "<Figure size 500x318.042 with 1 Axes>"
      ]
     },
     "metadata": {},
     "output_type": "display_data"
    },
    {
     "data": {
      "text/plain": [
       "<ggplot: (303024704)>"
      ]
     },
     "execution_count": 12,
     "metadata": {},
     "output_type": "execute_result"
    }
   ],
   "source": [
    "viability_gg = (\n",
    "    gg.ggplot(full_df, gg.aes(x=\"cell_health_viability\", y=\"depmap_viability\")) +\n",
    "    gg.geom_point(size = 0.5, alpha = 0.6) +\n",
    "    gg.theme_bw() +\n",
    "    gg.geom_smooth() +\n",
    "    gg.annotate(\"text\", label = result_text, x = -8.5, y = 1) +\n",
    "    gg.xlab(\"Cell Health Model Predictions (Number of Objects)\") +\n",
    "    gg.ylab(\"Dependency Map Viability\") +\n",
    "    gg.coord_fixed()\n",
    ")\n",
    "\n",
    "output_file = os.path.join(\"figures\", \"viability_results.png\")\n",
    "viability_gg.save(output_file, dpi = 400, height = 3, width = 5)\n",
    "\n",
    "viability_gg"
   ]
  }
 ],
 "metadata": {
  "kernelspec": {
   "display_name": "Python [conda env:cell-health] *",
   "language": "python",
   "name": "conda-env-cell-health-py"
  },
  "language_info": {
   "codemirror_mode": {
    "name": "ipython",
    "version": 3
   },
   "file_extension": ".py",
   "mimetype": "text/x-python",
   "name": "python",
   "nbconvert_exporter": "python",
   "pygments_lexer": "ipython3",
   "version": "3.7.1"
  }
 },
 "nbformat": 4,
 "nbformat_minor": 2
}
