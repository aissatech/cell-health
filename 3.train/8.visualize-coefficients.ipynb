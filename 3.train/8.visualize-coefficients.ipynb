{
 "cells": [
  {
   "cell_type": "markdown",
   "metadata": {},
   "source": [
    "# Visualize Model Coefficients\n",
    "\n",
    "**Gregory Way, 2019**"
   ]
  },
  {
   "cell_type": "code",
   "execution_count": 1,
   "metadata": {},
   "outputs": [],
   "source": [
    "suppressPackageStartupMessages(library(dplyr))\n",
    "suppressPackageStartupMessages(library(ggplot2))\n",
    "suppressPackageStartupMessages(library(cowplot))\n",
    "suppressPackageStartupMessages(library(ggrepel))"
   ]
  },
  {
   "cell_type": "code",
   "execution_count": 2,
   "metadata": {},
   "outputs": [],
   "source": [
    "consensus <- \"modz\""
   ]
  },
  {
   "cell_type": "markdown",
   "metadata": {},
   "source": [
    "## Load Function"
   ]
  },
  {
   "cell_type": "code",
   "execution_count": 3,
   "metadata": {},
   "outputs": [],
   "source": [
    "coef_plot <- function(df, target_name, compartment_features, coef_theme, top_plot_num = 15) {\n",
    "    # Compile a series of plots that describe model coefficients\n",
    "    #\n",
    "    # Arguments:\n",
    "    # df - coefficient dataframe with feature metadata and weights\n",
    "    # target_name - a string of a specific cell health model\n",
    "    # compartment_features - a vector of which features to plot\n",
    "    # coef_theme - a ggplot theme object to apply to all plots\n",
    "    # top_plot_num - the number of top individual features to visualize\n",
    "    \n",
    "    # Subset the input dataframe to focus on the specific target\n",
    "    subset_coef_df <- coef_df %>% dplyr::filter(target == !!target_name)\n",
    "\n",
    "    # Extract and process specific feature sets\n",
    "    area_df <- subset_coef_df %>%\n",
    "        dplyr::filter(feature_group  == \"AreaShape\") %>%\n",
    "        dplyr::group_by(shuffle, compartment, feature_group) %>%\n",
    "        dplyr::top_n(n = 1, wt = abs_weight)\n",
    "\n",
    "    compartment_df <- subset_coef_df %>%\n",
    "        dplyr::filter(feature_group %in% !!compartment_features) %>%\n",
    "        dplyr::group_by(shuffle, compartment, feature_group, channel) %>%\n",
    "        dplyr::top_n(n = 1, wt = abs_weight)\n",
    "\n",
    "    # Process individual feature name info\n",
    "    total_features <- length(unique(subset_coef_df$feature))\n",
    "    total_non_zero_features <- nrow(\n",
    "        subset_coef_df %>%\n",
    "            dplyr::filter(shuffle == \"Real\") %>%\n",
    "            dplyr::filter(abs_weight > 0)\n",
    "        )\n",
    "    feature_title <- paste0(\n",
    "        round((total_non_zero_features / total_features) * 100, 2),\n",
    "        \"% Non-Zero\"\n",
    "    )\n",
    "\n",
    "    top_n_features <- subset_coef_df %>%\n",
    "        dplyr::filter(shuffle == \"Real\") %>%\n",
    "        dplyr::top_n(n = top_plot_num, wt = abs_weight) %>%\n",
    "        dplyr::pull(feature)\n",
    "\n",
    "    feature_order <- subset_coef_df %>%\n",
    "        dplyr::filter(shuffle == \"Real\") %>%\n",
    "        dplyr::arrange(weight) %>%\n",
    "        dplyr::pull(feature)\n",
    "\n",
    "    subset_coef_features_df <- subset_coef_df %>%\n",
    "        dplyr::filter(shuffle == \"Real\") %>%\n",
    "        dplyr::filter(feature %in% !!top_n_features)\n",
    "\n",
    "    subset_coef_features_df$feature <- factor(\n",
    "        subset_coef_features_df$feature, levels = feature_order\n",
    "    )\n",
    "\n",
    "    # 1st Plot - Area Features\n",
    "    area_gg <- ggplot(area_df, aes(x = compartment, y = feature_group)) +\n",
    "        geom_point(aes(fill = abs_weight), size = 3, pch = 21) +\n",
    "        facet_wrap(~shuffle) +\n",
    "        scale_fill_viridis_c(name = \"Abs Weight\") +\n",
    "        ylab(\"\") +\n",
    "        xlab(\"Compartment\") +\n",
    "        theme(axis.text.y = element_text(angle = 90, hjust = 0.5)) +\n",
    "        theme_bw() +\n",
    "        coef_theme\n",
    "\n",
    "    # 2nd Plot - Other Compartment Features\n",
    "    compartment_gg <- ggplot(compartment_df, aes(x = channel, y = feature_group)) +\n",
    "        geom_point(aes(fill = abs_weight), size = 3, pch = 21) +\n",
    "        facet_grid(compartment~shuffle) +\n",
    "        scale_fill_viridis_c(name = \"Abs Weight\") +\n",
    "        ylab(\"Feature Group\") +\n",
    "        xlab(\"Channel\") +\n",
    "        theme_bw() +\n",
    "        coef_theme +\n",
    "        theme(axis.text.x = element_text(angle = 90))\n",
    "\n",
    "    # 3rd Plot - Individual Feature Names\n",
    "    feature_name_gg <- ggplot(subset_coef_features_df, aes(x = feature, y = weight)) +\n",
    "        geom_bar(fill = \"#8DB495\", color = \"black\", stat = \"identity\") +\n",
    "        ggtitle(feature_title) +\n",
    "        coord_flip() +\n",
    "        xlab(\"\") +\n",
    "        ylab(\"Model Coefficient\") +\n",
    "        theme_bw() +\n",
    "        coef_theme\n",
    "\n",
    "    # Get cowplot title\n",
    "    full_title <- ggdraw() + \n",
    "      draw_label(\n",
    "          target_name,\n",
    "          fontface = 'bold',\n",
    "          x = 0,\n",
    "          hjust = -0.1\n",
    "      )\n",
    "    \n",
    "    # Compile together into single cowplot\n",
    "    coef_full_gg <- cowplot::plot_grid(\n",
    "        full_title,\n",
    "        cowplot::plot_grid(\n",
    "            feature_name_gg,\n",
    "            cowplot::plot_grid(\n",
    "                area_gg,\n",
    "                compartment_gg,\n",
    "                nrow = 2,\n",
    "                rel_heights = c(0.25, 1),\n",
    "                align = \"v\",\n",
    "                axis = \"l\"\n",
    "            ),\n",
    "            ncol = 2\n",
    "        ),\n",
    "        nrow = 2,\n",
    "        rel_heights = c(0.1, 1)\n",
    "    )\n",
    "    \n",
    "    return(coef_full_gg)\n",
    "}"
   ]
  },
  {
   "cell_type": "markdown",
   "metadata": {},
   "source": [
    "## Load Data and Process Feature Info"
   ]
  },
  {
   "cell_type": "code",
   "execution_count": 4,
   "metadata": {},
   "outputs": [
    {
     "name": "stderr",
     "output_type": "stream",
     "text": [
      "Warning message:\n",
      "“Expected 6 pieces. Missing pieces filled with `NA` in 141820 rows [2, 3, 5, 6, 8, 10, 11, 16, 20, 21, 22, 23, 24, 26, 27, 28, 29, 30, 37, 38, ...].”"
     ]
    },
    {
     "name": "stdout",
     "output_type": "stream",
     "text": [
      "[1] 223720     12\n"
     ]
    },
    {
     "data": {
      "text/html": [
       "<table>\n",
       "<caption>A tibble: 5 × 12</caption>\n",
       "<thead>\n",
       "\t<tr><th scope=col>feature</th><th scope=col>compartment</th><th scope=col>feature_group</th><th scope=col>measurement</th><th scope=col>channel</th><th scope=col>parameter1</th><th scope=col>parameter2</th><th scope=col>weight</th><th scope=col>abs_weight</th><th scope=col>target</th><th scope=col>y_transform</th><th scope=col>shuffle</th></tr>\n",
       "\t<tr><th scope=col>&lt;chr&gt;</th><th scope=col>&lt;chr&gt;</th><th scope=col>&lt;chr&gt;</th><th scope=col>&lt;chr&gt;</th><th scope=col>&lt;chr&gt;</th><th scope=col>&lt;chr&gt;</th><th scope=col>&lt;chr&gt;</th><th scope=col>&lt;dbl&gt;</th><th scope=col>&lt;dbl&gt;</th><th scope=col>&lt;chr&gt;</th><th scope=col>&lt;chr&gt;</th><th scope=col>&lt;fct&gt;</th></tr>\n",
       "</thead>\n",
       "<tbody>\n",
       "\t<tr><td>Nuclei_Texture_InfoMeas1_AGP_5_0    </td><td>Nuclei   </td><td>Texture    </td><td>InfoMeas1   </td><td>AGP </td><td>5 </td><td>0 </td><td>-0.04896722</td><td>0.04896722</td><td>cc_all_high_n_spots_h2ax_mean</td><td>raw</td><td>Permuted</td></tr>\n",
       "\t<tr><td>Nuclei_Granularity_12_Mito          </td><td>Nuclei   </td><td>Granularity</td><td>12          </td><td>Mito</td><td>NA</td><td>NA</td><td>-0.04010161</td><td>0.04010161</td><td>cc_all_high_n_spots_h2ax_mean</td><td>raw</td><td>Permuted</td></tr>\n",
       "\t<tr><td>Cytoplasm_Intensity_MaxIntensity_RNA</td><td>Cytoplasm</td><td>Intensity  </td><td>MaxIntensity</td><td>RNA </td><td>NA</td><td>NA</td><td>-0.03304003</td><td>0.03304003</td><td>cc_all_high_n_spots_h2ax_mean</td><td>raw</td><td>Permuted</td></tr>\n",
       "\t<tr><td>Cells_Texture_Variance_ER_20_0      </td><td>Cells    </td><td>Texture    </td><td>Variance    </td><td>ER  </td><td>20</td><td>0 </td><td> 0.03236982</td><td>0.03236982</td><td>cc_all_high_n_spots_h2ax_mean</td><td>raw</td><td>Permuted</td></tr>\n",
       "\t<tr><td>Cells_Granularity_11_AGP            </td><td>Cells    </td><td>Granularity</td><td>11          </td><td>AGP </td><td>NA</td><td>NA</td><td>-0.03047637</td><td>0.03047637</td><td>cc_all_high_n_spots_h2ax_mean</td><td>raw</td><td>Permuted</td></tr>\n",
       "</tbody>\n",
       "</table>\n"
      ],
      "text/latex": [
       "A tibble: 5 × 12\n",
       "\\begin{tabular}{llllllllllll}\n",
       " feature & compartment & feature\\_group & measurement & channel & parameter1 & parameter2 & weight & abs\\_weight & target & y\\_transform & shuffle\\\\\n",
       " <chr> & <chr> & <chr> & <chr> & <chr> & <chr> & <chr> & <dbl> & <dbl> & <chr> & <chr> & <fct>\\\\\n",
       "\\hline\n",
       "\t Nuclei\\_Texture\\_InfoMeas1\\_AGP\\_5\\_0     & Nuclei    & Texture     & InfoMeas1    & AGP  & 5  & 0  & -0.04896722 & 0.04896722 & cc\\_all\\_high\\_n\\_spots\\_h2ax\\_mean & raw & Permuted\\\\\n",
       "\t Nuclei\\_Granularity\\_12\\_Mito           & Nuclei    & Granularity & 12           & Mito & NA & NA & -0.04010161 & 0.04010161 & cc\\_all\\_high\\_n\\_spots\\_h2ax\\_mean & raw & Permuted\\\\\n",
       "\t Cytoplasm\\_Intensity\\_MaxIntensity\\_RNA & Cytoplasm & Intensity   & MaxIntensity & RNA  & NA & NA & -0.03304003 & 0.03304003 & cc\\_all\\_high\\_n\\_spots\\_h2ax\\_mean & raw & Permuted\\\\\n",
       "\t Cells\\_Texture\\_Variance\\_ER\\_20\\_0       & Cells     & Texture     & Variance     & ER   & 20 & 0  &  0.03236982 & 0.03236982 & cc\\_all\\_high\\_n\\_spots\\_h2ax\\_mean & raw & Permuted\\\\\n",
       "\t Cells\\_Granularity\\_11\\_AGP             & Cells     & Granularity & 11           & AGP  & NA & NA & -0.03047637 & 0.03047637 & cc\\_all\\_high\\_n\\_spots\\_h2ax\\_mean & raw & Permuted\\\\\n",
       "\\end{tabular}\n"
      ],
      "text/markdown": [
       "\n",
       "A tibble: 5 × 12\n",
       "\n",
       "| feature &lt;chr&gt; | compartment &lt;chr&gt; | feature_group &lt;chr&gt; | measurement &lt;chr&gt; | channel &lt;chr&gt; | parameter1 &lt;chr&gt; | parameter2 &lt;chr&gt; | weight &lt;dbl&gt; | abs_weight &lt;dbl&gt; | target &lt;chr&gt; | y_transform &lt;chr&gt; | shuffle &lt;fct&gt; |\n",
       "|---|---|---|---|---|---|---|---|---|---|---|---|\n",
       "| Nuclei_Texture_InfoMeas1_AGP_5_0     | Nuclei    | Texture     | InfoMeas1    | AGP  | 5  | 0  | -0.04896722 | 0.04896722 | cc_all_high_n_spots_h2ax_mean | raw | Permuted |\n",
       "| Nuclei_Granularity_12_Mito           | Nuclei    | Granularity | 12           | Mito | NA | NA | -0.04010161 | 0.04010161 | cc_all_high_n_spots_h2ax_mean | raw | Permuted |\n",
       "| Cytoplasm_Intensity_MaxIntensity_RNA | Cytoplasm | Intensity   | MaxIntensity | RNA  | NA | NA | -0.03304003 | 0.03304003 | cc_all_high_n_spots_h2ax_mean | raw | Permuted |\n",
       "| Cells_Texture_Variance_ER_20_0       | Cells     | Texture     | Variance     | ER   | 20 | 0  |  0.03236982 | 0.03236982 | cc_all_high_n_spots_h2ax_mean | raw | Permuted |\n",
       "| Cells_Granularity_11_AGP             | Cells     | Granularity | 11           | AGP  | NA | NA | -0.03047637 | 0.03047637 | cc_all_high_n_spots_h2ax_mean | raw | Permuted |\n",
       "\n"
      ],
      "text/plain": [
       "  feature                              compartment feature_group measurement \n",
       "1 Nuclei_Texture_InfoMeas1_AGP_5_0     Nuclei      Texture       InfoMeas1   \n",
       "2 Nuclei_Granularity_12_Mito           Nuclei      Granularity   12          \n",
       "3 Cytoplasm_Intensity_MaxIntensity_RNA Cytoplasm   Intensity     MaxIntensity\n",
       "4 Cells_Texture_Variance_ER_20_0       Cells       Texture       Variance    \n",
       "5 Cells_Granularity_11_AGP             Cells       Granularity   11          \n",
       "  channel parameter1 parameter2 weight      abs_weight\n",
       "1 AGP     5          0          -0.04896722 0.04896722\n",
       "2 Mito    NA         NA         -0.04010161 0.04010161\n",
       "3 RNA     NA         NA         -0.03304003 0.03304003\n",
       "4 ER      20         0           0.03236982 0.03236982\n",
       "5 AGP     NA         NA         -0.03047637 0.03047637\n",
       "  target                        y_transform shuffle \n",
       "1 cc_all_high_n_spots_h2ax_mean raw         Permuted\n",
       "2 cc_all_high_n_spots_h2ax_mean raw         Permuted\n",
       "3 cc_all_high_n_spots_h2ax_mean raw         Permuted\n",
       "4 cc_all_high_n_spots_h2ax_mean raw         Permuted\n",
       "5 cc_all_high_n_spots_h2ax_mean raw         Permuted"
      ]
     },
     "metadata": {},
     "output_type": "display_data"
    }
   ],
   "source": [
    "coef_file <- file.path(\"results\", paste0(\"full_cell_health_coefficients_\", consensus, \".tsv.gz\"))\n",
    "\n",
    "coef_df <- readr::read_tsv(\n",
    "    coef_file,\n",
    "    col_types = readr::cols(\n",
    "        feature = readr::col_character(),\n",
    "        weight = readr::col_double(),\n",
    "        abs_weight = readr::col_double(),\n",
    "        target = readr::col_character(),\n",
    "        y_transform = readr::col_character(),\n",
    "        shuffle = readr::col_character()\n",
    "    )\n",
    ") %>%\n",
    "    dplyr::filter(y_transform == \"raw\") %>%\n",
    "    tidyr::separate(\n",
    "        feature,\n",
    "        into = c(\n",
    "            \"compartment\",\n",
    "            \"feature_group\",\n",
    "            \"measurement\",\n",
    "            \"channel\", \n",
    "            \"parameter1\", \n",
    "            \"parameter2\"\n",
    "        ),\n",
    "        sep = \"_\",\n",
    "        remove = FALSE\n",
    "    )\n",
    "\n",
    "coef_df$shuffle <- dplyr::recode(coef_df$shuffle,\n",
    "                                 \"shuffle_true\" = \"Permuted\",\n",
    "                                 \"shuffle_false\" = \"Real\")\n",
    "coef_df$shuffle <- factor(coef_df$shuffle,\n",
    "                          levels = c(\"Real\", \"Permuted\"))\n",
    "\n",
    "print(dim(coef_df))\n",
    "head(coef_df, 5)"
   ]
  },
  {
   "cell_type": "markdown",
   "metadata": {},
   "source": [
    "## Set Constants"
   ]
  },
  {
   "cell_type": "code",
   "execution_count": 5,
   "metadata": {},
   "outputs": [],
   "source": [
    "compartment_features <- c(\"Texture\", \"Intensity\", \"RadialDistribution\", \"Correlation\", \"Granularity\")\n",
    "top_plot_num <- 15\n",
    "coef_theme <- theme(\n",
    "    strip.text = element_text(size = 6,\n",
    "                              color = \"black\",\n",
    "                              margin = margin(1, 1, 1, 1)),\n",
    "    strip.background = element_rect(colour = \"black\",\n",
    "                                    fill = \"#fdfff4\"),\n",
    "    axis.text = element_text(size = 5),\n",
    "    axis.title = element_text(size = 6),\n",
    "    plot.title = element_text(size = 6),\n",
    "    legend.title = element_text(size = 6),\n",
    "    legend.text = element_text(size = 5),\n",
    "    legend.key.width = unit(0.5, \"cm\"),\n",
    "    legend.key.size = unit(0.3, \"cm\")\n",
    ")"
   ]
  },
  {
   "cell_type": "markdown",
   "metadata": {},
   "source": [
    "## Generate Plot for every Cell Health Target"
   ]
  },
  {
   "cell_type": "code",
   "execution_count": 6,
   "metadata": {},
   "outputs": [
    {
     "data": {
      "text/html": [
       "<strong>pdf:</strong> 2"
      ],
      "text/latex": [
       "\\textbf{pdf:} 2"
      ],
      "text/markdown": [
       "**pdf:** 2"
      ],
      "text/plain": [
       "pdf \n",
       "  2 "
      ]
     },
     "metadata": {},
     "output_type": "display_data"
    }
   ],
   "source": [
    "pdf_file <- file.path(\"figures\",\n",
    "                      paste0(\"all_model_coefficients_\", consensus, \".pdf\"))\n",
    "pdf(pdf_file, width = 5, height = 7, onefile = TRUE)\n",
    "\n",
    "for (target in unique(coef_df$target)) {\n",
    "    coef_gg <- coef_plot(\n",
    "        df = coef_df,\n",
    "        target_name = target,\n",
    "        compartment_features = compartment_features,\n",
    "        coef_theme = coef_theme,\n",
    "        top_plot_num = top_plot_num\n",
    "    )\n",
    "    output_file <- file.path(\n",
    "        \"figures\",\n",
    "        \"coefficients\",\n",
    "        paste0(\"model_\", consensus, \"_\", target, \".png\")\n",
    "    )\n",
    "    cowplot::save_plot(output_file, coef_gg, base_height = 5, base_width = 7)\n",
    "    \n",
    "    print(coef_gg)\n",
    "}\n",
    "\n",
    "dev.off()"
   ]
  }
 ],
 "metadata": {
  "kernelspec": {
   "display_name": "R [conda env:cell-health] *",
   "language": "R",
   "name": "conda-env-cell-health-r"
  },
  "language_info": {
   "codemirror_mode": "r",
   "file_extension": ".r",
   "mimetype": "text/x-r-source",
   "name": "R",
   "pygments_lexer": "r",
   "version": "3.5.1"
  }
 },
 "nbformat": 4,
 "nbformat_minor": 2
}
