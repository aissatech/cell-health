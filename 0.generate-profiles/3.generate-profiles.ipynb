{
 "cells": [
  {
   "cell_type": "markdown",
   "metadata": {},
   "source": [
    "## Generate Cell Health Profiles\n",
    "\n",
    "**Gregory Way, 2019**\n",
    "\n",
    "Use [pycytominer](https://github.com/cytomining/pycytominer) to process and generate cell painting profiles for the Cell Health Project."
   ]
  },
  {
   "cell_type": "code",
   "execution_count": 1,
   "metadata": {},
   "outputs": [],
   "source": [
    "import os\n",
    "import pandas as pd\n",
    "\n",
    "from pycytominer.aggregate import AggregateProfiles"
   ]
  },
  {
   "cell_type": "code",
   "execution_count": 2,
   "metadata": {},
   "outputs": [],
   "source": [
    "batch = \"CRISPR_PILOT_B1\"\n",
    "bucket_dir = os.path.join(\n",
    "    \"/home\",\n",
    "    \"ubuntu\",\n",
    "    \"bucket\",\n",
    "    \"projects\",\n",
    "    \"2015_07_01_Cell_Health_Vazquez_Cancer_Broad\",\n",
    "    \"workspace\"\n",
    ")\n",
    "\n",
    "backend_dir = os.path.join(bucket_dir, \"backend\", batch)\n",
    "metadata_dir = os.path.join(bucket_dir, \"metadata\", batch)"
   ]
  },
  {
   "cell_type": "code",
   "execution_count": 3,
   "metadata": {},
   "outputs": [
    {
     "name": "stdout",
     "output_type": "stream",
     "text": [
      "(9, 2)\n"
     ]
    },
    {
     "data": {
      "text/html": [
       "<div>\n",
       "<style scoped>\n",
       "    .dataframe tbody tr th:only-of-type {\n",
       "        vertical-align: middle;\n",
       "    }\n",
       "\n",
       "    .dataframe tbody tr th {\n",
       "        vertical-align: top;\n",
       "    }\n",
       "\n",
       "    .dataframe thead th {\n",
       "        text-align: right;\n",
       "    }\n",
       "</style>\n",
       "<table border=\"1\" class=\"dataframe\">\n",
       "  <thead>\n",
       "    <tr style=\"text-align: right;\">\n",
       "      <th></th>\n",
       "      <th>Assay_Plate_Barcode</th>\n",
       "      <th>Plate_Map_Name</th>\n",
       "    </tr>\n",
       "  </thead>\n",
       "  <tbody>\n",
       "    <tr>\n",
       "      <th>0</th>\n",
       "      <td>SQ00014610</td>\n",
       "      <td>DEPENDENCIES1_A549</td>\n",
       "    </tr>\n",
       "    <tr>\n",
       "      <th>1</th>\n",
       "      <td>SQ00014611</td>\n",
       "      <td>DEPENDENCIES1_A549</td>\n",
       "    </tr>\n",
       "    <tr>\n",
       "      <th>2</th>\n",
       "      <td>SQ00014612</td>\n",
       "      <td>DEPENDENCIES1_A549</td>\n",
       "    </tr>\n",
       "    <tr>\n",
       "      <th>3</th>\n",
       "      <td>SQ00014613</td>\n",
       "      <td>DEPENDENCIES1_ES2</td>\n",
       "    </tr>\n",
       "    <tr>\n",
       "      <th>4</th>\n",
       "      <td>SQ00014614</td>\n",
       "      <td>DEPENDENCIES1_ES2</td>\n",
       "    </tr>\n",
       "  </tbody>\n",
       "</table>\n",
       "</div>"
      ],
      "text/plain": [
       "  Assay_Plate_Barcode      Plate_Map_Name\n",
       "0          SQ00014610  DEPENDENCIES1_A549\n",
       "1          SQ00014611  DEPENDENCIES1_A549\n",
       "2          SQ00014612  DEPENDENCIES1_A549\n",
       "3          SQ00014613   DEPENDENCIES1_ES2\n",
       "4          SQ00014614   DEPENDENCIES1_ES2"
      ]
     },
     "execution_count": 3,
     "metadata": {},
     "output_type": "execute_result"
    }
   ],
   "source": [
    "# Load Barcode Platemap\n",
    "barcode_platemap_file = os.path.join(metadata_dir, \"barcode_platemap.csv\")\n",
    "barcode_platemap_df = pd.read_csv(barcode_platemap_file)\n",
    "\n",
    "print(barcode_platemap_df.shape)\n",
    "barcode_platemap_df.head()"
   ]
  },
  {
   "cell_type": "markdown",
   "metadata": {},
   "source": [
    "## Create Profiles"
   ]
  },
  {
   "cell_type": "code",
   "execution_count": 9,
   "metadata": {},
   "outputs": [
    {
     "name": "stdout",
     "output_type": "stream",
     "text": [
      "SQ00014610\n",
      "SQ00014611\n",
      "SQ00014612\n",
      "SQ00014613\n",
      "SQ00014614\n",
      "SQ00014615\n",
      "SQ00014616\n",
      "SQ00014617\n",
      "SQ00014618\n"
     ]
    }
   ],
   "source": [
    "for plate in os.listdir(backend_dir):\n",
    "    plate_dir = os.path.join(backend_dir, plate)\n",
    "    sqlite_file = \"sqlite:////{}/{}.sqlite\".format(plate_dir, plate)\n",
    "    \n",
    "    # Load specific platemap\n",
    "    platemap = barcode_platemap_df.query(\"Assay_Plate_Barcode == @plate\").Plate_Map_Name.values[0]\n",
    "    platemap_file = os.path.join(metadata_dir, \"platemap\", \"{}.csv\".format(platemap))\n",
    "    \n",
    "    # Prepare sql file for processing\n",
    "    ap = AggregateProfiles(sqlite_file, strata=[\"Image_Metadata_Plate\", \"Image_Metadata_Well\"])\n",
    "\n",
    "    # Count cells and output\n",
    "    cell_count_file = os.path.join(\"results\", \"{}_cell_count.tsv\".format(plate))\n",
    "    cell_count_df = ap.count_cells()\n",
    "    cell_count_df = (\n",
    "        cell_count_df\n",
    "        .merge(platemap_df,\n",
    "               left_on=\"Image_Metadata_Well\",\n",
    "               right_on=\"well_position\")\n",
    "        .drop([\"WellRow\", \"WellCol\", \"well_position\"],\n",
    "              axis=\"columns\")\n",
    "    )\n",
    "    cell_count_df.to_csv(cell_count_file, sep='\\t', index=False)\n",
    "    \n",
    "    # Being processing profiles\n",
    "    output_dir = os.path.join(\"data\", batch, plate)\n",
    "    os.makedirs(output_dir, exist_ok=True)\n",
    "    \n",
    "    # Aggregate single cells into well profiles\n",
    "    out_file = os.path.join(output_dir, \"{}.csv\".format(plate))\n",
    "    ap.aggregate_profiles(output_file=out_file)\n",
    "    \n",
    "    "
   ]
  },
  {
   "cell_type": "code",
   "execution_count": 12,
   "metadata": {},
   "outputs": [],
   "source": [
    "ap = AggregateProfiles(sqlite_file, strata=[\"Image_Metadata_Plate\", \"Image_Metadata_Well\"])"
   ]
  },
  {
   "cell_type": "code",
   "execution_count": 17,
   "metadata": {},
   "outputs": [
    {
     "data": {
      "text/html": [
       "<div>\n",
       "<style scoped>\n",
       "    .dataframe tbody tr th:only-of-type {\n",
       "        vertical-align: middle;\n",
       "    }\n",
       "\n",
       "    .dataframe tbody tr th {\n",
       "        vertical-align: top;\n",
       "    }\n",
       "\n",
       "    .dataframe thead th {\n",
       "        text-align: right;\n",
       "    }\n",
       "</style>\n",
       "<table border=\"1\" class=\"dataframe\">\n",
       "  <thead>\n",
       "    <tr style=\"text-align: right;\">\n",
       "      <th></th>\n",
       "      <th>Image_Metadata_Well</th>\n",
       "      <th>SQ00014618</th>\n",
       "      <th>gene_name</th>\n",
       "      <th>pert_name</th>\n",
       "      <th>broad_sample</th>\n",
       "      <th>cell_line</th>\n",
       "    </tr>\n",
       "  </thead>\n",
       "  <tbody>\n",
       "    <tr>\n",
       "      <th>0</th>\n",
       "      <td>A01</td>\n",
       "      <td>2603</td>\n",
       "      <td>EMPTY</td>\n",
       "      <td>EMPTY</td>\n",
       "      <td>NaN</td>\n",
       "      <td>HCC44</td>\n",
       "    </tr>\n",
       "    <tr>\n",
       "      <th>1</th>\n",
       "      <td>A02</td>\n",
       "      <td>2112</td>\n",
       "      <td>MCL1</td>\n",
       "      <td>MCL1-5</td>\n",
       "      <td>NaN</td>\n",
       "      <td>HCC44</td>\n",
       "    </tr>\n",
       "  </tbody>\n",
       "</table>\n",
       "</div>"
      ],
      "text/plain": [
       "  Image_Metadata_Well  SQ00014618 gene_name pert_name broad_sample cell_line\n",
       "0                 A01        2603     EMPTY     EMPTY          NaN     HCC44\n",
       "1                 A02        2112      MCL1    MCL1-5          NaN     HCC44"
      ]
     },
     "execution_count": 17,
     "metadata": {},
     "output_type": "execute_result"
    }
   ],
   "source": [
    "cell_count_df = ap.count_cells()\n",
    "cell_count_df = (\n",
    "    cell_count_df\n",
    "    .merge(platemap_df,\n",
    "           left_on=\"Image_Metadata_Well\",\n",
    "           right_on=\"well_position\")\n",
    "    .drop([\"WellRow\", \"WellCol\", \"well_position\"],\n",
    "          axis=\"columns\")\n",
    ")\n",
    "cell_count_file = os.path.join(\"results\", \"{}_cell_count.tsv\".format(plate))\n",
    "cell_count_df.to_csv(cell_count_file, sep='\\t', index=False)\n",
    "\n",
    "cell_count_df.head(2)"
   ]
  },
  {
   "cell_type": "code",
   "execution_count": 19,
   "metadata": {},
   "outputs": [],
   "source": [
    "output_dir = os.path.join(\"data\", \"profiles\", batch, plate)\n",
    "os.makedirs(output_dir, exist_ok=True)"
   ]
  },
  {
   "cell_type": "code",
   "execution_count": null,
   "metadata": {},
   "outputs": [],
   "source": [
    "out_file = os.path.join(output_dir, \"{}.csv\".format(plate))\n",
    "ap.aggregate_profiles(output_file=out_file)"
   ]
  },
  {
   "cell_type": "code",
   "execution_count": null,
   "metadata": {},
   "outputs": [],
   "source": [
    "# Annotate Profiles\n",
    "anno_file = os.path.join(output_dir, \"{}_augmented.csv\".format(plate))\n",
    "annotate(\n",
    "    profiles=out_file,\n",
    "    platemap=platemap_file,\n",
    "    join_on=[\"Metadata_well_position\", \"Metadata_Well\"],\n",
    "    output_file=anno_file,\n",
    ")"
   ]
  }
 ],
 "metadata": {
  "kernelspec": {
   "display_name": "Python 3",
   "language": "python",
   "name": "python3"
  },
  "language_info": {
   "codemirror_mode": {
    "name": "ipython",
    "version": 3
   },
   "file_extension": ".py",
   "mimetype": "text/x-python",
   "name": "python",
   "nbconvert_exporter": "python",
   "pygments_lexer": "ipython3",
   "version": "3.7.1"
  }
 },
 "nbformat": 4,
 "nbformat_minor": 2
}
